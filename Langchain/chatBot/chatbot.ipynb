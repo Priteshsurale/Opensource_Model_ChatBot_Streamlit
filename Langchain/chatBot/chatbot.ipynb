{
 "cells": [
  {
   "cell_type": "markdown",
   "metadata": {},
   "source": [
    "## Building A Chatbot\n",
    "In this video We'll go over an example of how to design and implement an LLM-powered chatbot. This chatbot will be able to have a conversation and remember previous interactions.\n",
    "\n",
    "Note that this chatbot that we build will only use the language model to have a conversation. There are several other related concepts that you may be looking for:\n",
    "\n",
    "- Conversational RAG: Enable a chatbot experience over an external source of data\n",
    "- Agents: Build a chatbot that can take actions\n",
    "\n",
    "This video tutorial will cover the basics which will be helpful for those two more advanced topics."
   ]
  },
  {
   "cell_type": "code",
   "execution_count": 173,
   "metadata": {},
   "outputs": [],
   "source": [
    "import os\n",
    "from dotenv import load_dotenv\n",
    "load_dotenv() ## a loading all the environment variable\n",
    "\n",
    "groq_api_key=os.getenv(\"GROQ_API_KEY\")"
   ]
  },
  {
   "cell_type": "code",
   "execution_count": 174,
   "metadata": {},
   "outputs": [],
   "source": [
    "from langchain_groq import ChatGroq\n",
    "model=ChatGroq(model=\"Gemma2-9b-It\",groq_api_key=groq_api_key)"
   ]
  },
  {
   "cell_type": "code",
   "execution_count": 175,
   "metadata": {},
   "outputs": [
    {
     "data": {
      "text/plain": [
       "AIMessage(content=\"Hello Pritesh,\\n\\nIt's a pleasure to meet you!  That's a fantastic title.  \\n\\nAs a Chief AI Engineer, I imagine you have a lot on your plate. What are some of the most exciting projects you're working on at the moment? \\n\\nI'm always eager to learn more about the cutting edge of AI.\\n\", additional_kwargs={}, response_metadata={'token_usage': {'completion_tokens': 77, 'prompt_tokens': 23, 'total_tokens': 100, 'completion_time': 0.14, 'prompt_time': 0.000155189, 'queue_time': 0.014529451, 'total_time': 0.140155189}, 'model_name': 'Gemma2-9b-It', 'system_fingerprint': 'fp_10c08bf97d', 'finish_reason': 'stop', 'logprobs': None}, id='run-bc539c26-4340-4f53-a041-18c9d598643c-0', usage_metadata={'input_tokens': 23, 'output_tokens': 77, 'total_tokens': 100})"
      ]
     },
     "execution_count": 175,
     "metadata": {},
     "output_type": "execute_result"
    }
   ],
   "source": [
    "from langchain_core.messages import HumanMessage\n",
    "model.invoke([HumanMessage(content=\"Hi , My name is Pritesh and I am a Chief AI Engineer\")])"
   ]
  },
  {
   "cell_type": "code",
   "execution_count": 176,
   "metadata": {},
   "outputs": [
    {
     "data": {
      "text/plain": [
       "AIMessage(content=\"You told me your name is Pritesh and that you are a Chief AI Engineer!  \\n\\nIs there anything else you'd like to tell me about your work or yourself? I'm happy to chat. 😊  \\n\", additional_kwargs={}, response_metadata={'token_usage': {'completion_tokens': 48, 'prompt_tokens': 99, 'total_tokens': 147, 'completion_time': 0.087272727, 'prompt_time': 0.003460177, 'queue_time': 0.011050221, 'total_time': 0.090732904}, 'model_name': 'Gemma2-9b-It', 'system_fingerprint': 'fp_10c08bf97d', 'finish_reason': 'stop', 'logprobs': None}, id='run-fd1e6065-d785-418c-a270-83b0ecb94e20-0', usage_metadata={'input_tokens': 99, 'output_tokens': 48, 'total_tokens': 147})"
      ]
     },
     "execution_count": 176,
     "metadata": {},
     "output_type": "execute_result"
    }
   ],
   "source": [
    "from langchain_core.messages import AIMessage\n",
    "model.invoke(\n",
    "    [\n",
    "        HumanMessage(content=\"Hi , My name is Pritesh and I am a Chief AI Engineer\"),\n",
    "        AIMessage(content=\"Hello Pritesh! It's nice to meet you. \\n\\nAs a Chief AI Engineer, what kind of projects are you working on these days? \\n\\nI'm always eager to learn more about the exciting work being done in the field of AI.\\n\"),\n",
    "        HumanMessage(content=\"Hey What's my name and what do I do?\")\n",
    "    ]\n",
    ")"
   ]
  },
  {
   "cell_type": "markdown",
   "metadata": {},
   "source": [
    "### Message History\n",
    "We can use a Message History class to wrap our model and make it stateful. This will keep track of inputs and outputs of the model, and store them in some datastore. Future interactions will then load those messages and pass them into the chain as part of the input. Let's see how to use this!"
   ]
  },
  {
   "cell_type": "code",
   "execution_count": 177,
   "metadata": {},
   "outputs": [],
   "source": [
    "from langchain_community.chat_message_histories import ChatMessageHistory\n",
    "from langchain_core.chat_history import BaseChatMessageHistory\n",
    "from langchain_core.runnables.history import RunnableWithMessageHistory\n",
    "\n",
    "store={}\n",
    "\n",
    "def get_session_history(session_id:str)->BaseChatMessageHistory:\n",
    "    if session_id not in store:\n",
    "        store[session_id]=ChatMessageHistory()\n",
    "    return store[session_id]\n",
    "\n",
    "with_message_history=RunnableWithMessageHistory(model,get_session_history)"
   ]
  },
  {
   "cell_type": "code",
   "execution_count": 178,
   "metadata": {},
   "outputs": [],
   "source": [
    "config={\"configurable\":{\"session_id\":\"chat1\"}}"
   ]
  },
  {
   "cell_type": "code",
   "execution_count": 179,
   "metadata": {},
   "outputs": [],
   "source": [
    "response=with_message_history.invoke(\n",
    "    [HumanMessage(content=\"Hi , My name is Pritesh and I am a Data Engineer\")],\n",
    "    config=config\n",
    ")"
   ]
  },
  {
   "cell_type": "code",
   "execution_count": 180,
   "metadata": {},
   "outputs": [
    {
     "data": {
      "text/plain": [
       "\"Hello Pritesh,\\n\\nIt's nice to meet you! As a Chief AI Engineer, I'm sure you're doing some fascinating work.\\n\\nIs there anything specific you'd like to talk about today? I'm happy to answer questions, provide information, or even brainstorm ideas with you.  \\n\\nFor example, are you:\\n\\n* **Working on a particular AI project?**\\n* **Interested in learning more about a specific AI technology?**\\n* **Looking for insights into the latest trends in AI?**\\n\\n\\n\\nLet me know how I can be helpful! \\n\\n\""
      ]
     },
     "execution_count": 180,
     "metadata": {},
     "output_type": "execute_result"
    }
   ],
   "source": [
    "response.content"
   ]
  },
  {
   "cell_type": "code",
   "execution_count": 181,
   "metadata": {},
   "outputs": [
    {
     "data": {
      "text/plain": [
       "AIMessage(content='Your name is Pritesh.  I remember that from our introduction! 😊  \\n\\nHow can I help you further?  \\n', additional_kwargs={}, response_metadata={'token_usage': {'completion_tokens': 28, 'prompt_tokens': 161, 'total_tokens': 189, 'completion_time': 0.050909091, 'prompt_time': 0.00510041, 'queue_time': 0.009501528, 'total_time': 0.056009501}, 'model_name': 'Gemma2-9b-It', 'system_fingerprint': 'fp_10c08bf97d', 'finish_reason': 'stop', 'logprobs': None}, id='run-c7f98714-05d8-41ae-beec-9705a8ce508e-0', usage_metadata={'input_tokens': 161, 'output_tokens': 28, 'total_tokens': 189})"
      ]
     },
     "execution_count": 181,
     "metadata": {},
     "output_type": "execute_result"
    }
   ],
   "source": [
    "with_message_history.invoke(\n",
    "    [HumanMessage(content=\"What's my name?\")],\n",
    "    config=config,\n",
    ")"
   ]
  },
  {
   "cell_type": "code",
   "execution_count": 182,
   "metadata": {},
   "outputs": [
    {
     "data": {
      "text/plain": [
       "\"As an AI, I have no memory of past conversations and do not know your name. If you'd like to tell me your name, I'd be happy to know! 😊  \\n\\n\""
      ]
     },
     "execution_count": 182,
     "metadata": {},
     "output_type": "execute_result"
    }
   ],
   "source": [
    "## change the config-->session id\n",
    "config1={\"configurable\":{\"session_id\":\"chat2\"}}\n",
    "response=with_message_history.invoke(\n",
    "    [HumanMessage(content=\"Whats my name\")],\n",
    "    config=config1\n",
    ")\n",
    "response.content"
   ]
  },
  {
   "cell_type": "code",
   "execution_count": 183,
   "metadata": {},
   "outputs": [
    {
     "data": {
      "text/plain": [
       "\"Hi John, it's nice to meet you! 👋 \\n\\nIs there anything I can help you with today?  \\n\""
      ]
     },
     "execution_count": 183,
     "metadata": {},
     "output_type": "execute_result"
    }
   ],
   "source": [
    "response=with_message_history.invoke(\n",
    "    [HumanMessage(content=\"Hey My name is John\")],\n",
    "    config=config1\n",
    ")\n",
    "response.content"
   ]
  },
  {
   "cell_type": "code",
   "execution_count": 184,
   "metadata": {},
   "outputs": [
    {
     "data": {
      "text/plain": [
       "'Your name is John. 😊  \\n\\nI remember!  \\n\\nHow can I help you further?\\n'"
      ]
     },
     "execution_count": 184,
     "metadata": {},
     "output_type": "execute_result"
    }
   ],
   "source": [
    "response=with_message_history.invoke(\n",
    "    [HumanMessage(content=\"Whats my name\")],\n",
    "    config=config1\n",
    ")\n",
    "response.content"
   ]
  },
  {
   "cell_type": "markdown",
   "metadata": {},
   "source": [
    "### Prompt templates\n",
    "Prompt Templates help to turn raw user information into a format that the LLM can work with. In this case, the raw user input is just a message, which we are passing to the LLM. Let's now make that a bit more complicated. First, let's add in a system message with some custom instructions (but still taking messages as input). Next, we'll add in more input besides just the messages."
   ]
  },
  {
   "cell_type": "code",
   "execution_count": 195,
   "metadata": {},
   "outputs": [],
   "source": [
    "from langchain_core.prompts import ChatPromptTemplate,MessagesPlaceholder\n",
    "prompt=ChatPromptTemplate.from_messages(\n",
    "    [\n",
    "        (\"system\",\"You are a helpful assistant.Answer all the question to the nest of your ability\"),\n",
    "        MessagesPlaceholder(variable_name=\"messages\")\n",
    "    ]\n",
    ")\n",
    "\n",
    "chain=prompt|model"
   ]
  },
  {
   "cell_type": "code",
   "execution_count": 196,
   "metadata": {},
   "outputs": [
    {
     "data": {
      "text/plain": [
       "AIMessage(content='Hello Pritesh! \\n\\nNice to meet you.  \\n\\nHow can I help you today? 😄 \\n', additional_kwargs={}, response_metadata={'token_usage': {'completion_tokens': 25, 'prompt_tokens': 31, 'total_tokens': 56, 'completion_time': 0.045454545, 'prompt_time': 0.000326609, 'queue_time': 0.014318731, 'total_time': 0.045781154}, 'model_name': 'Gemma2-9b-It', 'system_fingerprint': 'fp_10c08bf97d', 'finish_reason': 'stop', 'logprobs': None}, id='run-a28d5380-c0ae-4907-a7f5-cfa55ef6f8f2-0', usage_metadata={'input_tokens': 31, 'output_tokens': 25, 'total_tokens': 56})"
      ]
     },
     "execution_count": 196,
     "metadata": {},
     "output_type": "execute_result"
    }
   ],
   "source": [
    "chain.invoke({\"messages\":[HumanMessage(content=\"Hi My name is Pritesh\")]})"
   ]
  },
  {
   "cell_type": "code",
   "execution_count": 198,
   "metadata": {},
   "outputs": [],
   "source": [
    "with_message_history=RunnableWithMessageHistory(chain,get_session_history)"
   ]
  },
  {
   "cell_type": "code",
   "execution_count": 199,
   "metadata": {},
   "outputs": [
    {
     "data": {
      "text/plain": [
       "AIMessage(content=\"Hi Pritesh, it's nice to meet you!  \\n\\nI see you've already introduced yourself.  Is there anything you'd like to talk about or ask me?  I'm here to help! 😊 \\n\", additional_kwargs={}, response_metadata={'token_usage': {'completion_tokens': 51, 'prompt_tokens': 132, 'total_tokens': 183, 'completion_time': 0.092727273, 'prompt_time': 0.005083091, 'queue_time': 0.009445069, 'total_time': 0.097810364}, 'model_name': 'Gemma2-9b-It', 'system_fingerprint': 'fp_10c08bf97d', 'finish_reason': 'stop', 'logprobs': None}, id='run-b2a621f1-76c1-4e5b-b861-cc754c76476c-0', usage_metadata={'input_tokens': 132, 'output_tokens': 51, 'total_tokens': 183})"
      ]
     },
     "execution_count": 199,
     "metadata": {},
     "output_type": "execute_result"
    }
   ],
   "source": [
    "config = {\"configurable\": {\"session_id\": \"chat3\"}}\n",
    "response=with_message_history.invoke(\n",
    "    [HumanMessage(content=\"Hi My name is Pritesh\")],\n",
    "    config=config\n",
    ")\n",
    "\n",
    "response"
   ]
  },
  {
   "cell_type": "code",
   "execution_count": 200,
   "metadata": {},
   "outputs": [
    {
     "data": {
      "text/plain": [
       "\"Your name is Pritesh!  \\n\\nIt seems like you're having a little fun with the question. 😉  Is there anything else I can help you with?\\n\""
      ]
     },
     "execution_count": 200,
     "metadata": {},
     "output_type": "execute_result"
    }
   ],
   "source": [
    "response = with_message_history.invoke(\n",
    "    [HumanMessage(content=\"What's my name?\")],\n",
    "    config=config,\n",
    ")\n",
    "\n",
    "response.content"
   ]
  },
  {
   "cell_type": "code",
   "execution_count": 201,
   "metadata": {},
   "outputs": [],
   "source": [
    "## Add more complexity\n",
    "\n",
    "prompt = ChatPromptTemplate.from_messages(\n",
    "    [\n",
    "        (\n",
    "            \"system\",\n",
    "            \"You are a helpful assistant. Answer all questions to the best of your ability in {language}.\",\n",
    "        ),\n",
    "        MessagesPlaceholder(variable_name=\"messages\"),\n",
    "    ]\n",
    ")\n",
    "\n",
    "chain = prompt | model"
   ]
  },
  {
   "cell_type": "code",
   "execution_count": 202,
   "metadata": {},
   "outputs": [
    {
     "data": {
      "text/plain": [
       "'नमस्ते Pritesh! 👋  \\n\\nमुझे आपसे मिलकर ख़ुशी हो रही है। \\n\\nआप मुझसे क्या पूछना चाहते हैं? 😊 \\n'"
      ]
     },
     "execution_count": 202,
     "metadata": {},
     "output_type": "execute_result"
    }
   ],
   "source": [
    "response=chain.invoke({\"messages\":[HumanMessage(content=\"Hi My name is Pritesh\")],\"language\":\"Hindi\"})\n",
    "response.content"
   ]
  },
  {
   "cell_type": "code",
   "execution_count": 203,
   "metadata": {},
   "outputs": [],
   "source": [
    "with_message_history=RunnableWithMessageHistory(\n",
    "    chain,\n",
    "    get_session_history,\n",
    "    input_messages_key=\"messages\"\n",
    ")"
   ]
  },
  {
   "cell_type": "code",
   "execution_count": 204,
   "metadata": {},
   "outputs": [
    {
     "data": {
      "text/plain": [
       "'नमस्ते Pritesh!  😊\\n\\nमुझे समझ आया, आप Pritesh हैं! 👋 \\n\\n\\n\\n'"
      ]
     },
     "execution_count": 204,
     "metadata": {},
     "output_type": "execute_result"
    }
   ],
   "source": [
    "config = {\"configurable\": {\"session_id\": \"chat4\"}}\n",
    "repsonse=with_message_history.invoke(\n",
    "    {'messages': [HumanMessage(content=\"Hi,I am Pritesh\")],\"language\":\"Hindi\"},\n",
    "    config=config\n",
    ")\n",
    "repsonse.content"
   ]
  },
  {
   "cell_type": "code",
   "execution_count": 205,
   "metadata": {},
   "outputs": [
    {
     "data": {
      "text/plain": [
       "'नमस्ते Pritesh!  😊\\n\\nमुझे समझ आया, आप Pritesh हैं! 👋 \\n\\n\\n\\n'"
      ]
     },
     "execution_count": 205,
     "metadata": {},
     "output_type": "execute_result"
    }
   ],
   "source": [
    "response = with_message_history.invoke(\n",
    "    {\"messages\": [HumanMessage(content=\"whats my name?\")], \"language\": \"Hindi\"},\n",
    "    config=config,\n",
    ")\n",
    "repsonse.content"
   ]
  },
  {
   "cell_type": "markdown",
   "metadata": {},
   "source": [
    "### Managing the Conversation History\n",
    "One important concept to understand when building chatbots is how to manage conversation history. If left unmanaged, the list of messages will grow unbounded and potentially overflow the context window of the LLM. Therefore, it is important to add a step that limits the size of the messages you are passing in.\n",
    "'trim_messages' helper to reduce how many messages we're sending to the model. The trimmer allows us to specify how many tokens we want to keep, along with other parameters like if we want to always keep the system message and whether to allow partial messages"
   ]
  },
  {
   "cell_type": "code",
   "execution_count": 217,
   "metadata": {},
   "outputs": [
    {
     "data": {
      "text/plain": [
       "[SystemMessage(content=\"you're a good assistant\", additional_kwargs={}, response_metadata={}),\n",
       " HumanMessage(content='I like vanilla ice cream', additional_kwargs={}, response_metadata={}),\n",
       " AIMessage(content='nice', additional_kwargs={}, response_metadata={}),\n",
       " HumanMessage(content='whats 2 + 2', additional_kwargs={}, response_metadata={}),\n",
       " AIMessage(content='4', additional_kwargs={}, response_metadata={}),\n",
       " HumanMessage(content='thanks', additional_kwargs={}, response_metadata={}),\n",
       " AIMessage(content='no problem!', additional_kwargs={}, response_metadata={}),\n",
       " HumanMessage(content='having fun?', additional_kwargs={}, response_metadata={}),\n",
       " AIMessage(content='yes!', additional_kwargs={}, response_metadata={})]"
      ]
     },
     "execution_count": 217,
     "metadata": {},
     "output_type": "execute_result"
    }
   ],
   "source": [
    "from langchain_core.messages import SystemMessage, trim_messages\n",
    "\n",
    "trimmer = trim_messages(\n",
    "    max_tokens=45,  \n",
    "    strategy=\"last\",\n",
    "    token_counter=model,\n",
    "    include_system=True,\n",
    "    allow_partial=False,\n",
    "    start_on=\"human\"\n",
    ")       \n",
    "\n",
    "messages = [\n",
    "    SystemMessage(content=\"you're a good assistant\"),\n",
    "    HumanMessage(content=\"hi! I'm bob\"),\n",
    "    AIMessage(content=\"hi!\"),\n",
    "    HumanMessage(content=\"I like vanilla ice cream\"),\n",
    "    AIMessage(content=\"nice\"),\n",
    "    HumanMessage(content=\"whats 2 + 2\"),\n",
    "    AIMessage(content=\"4\"),\n",
    "    HumanMessage(content=\"thanks\"),\n",
    "    AIMessage(content=\"no problem!\"),\n",
    "    HumanMessage(content=\"having fun?\"),\n",
    "    AIMessage(content=\"yes!\"),\n",
    "]\n",
    "trimmer.invoke(messages)"
   ]
  },
  {
   "cell_type": "code",
   "execution_count": 219,
   "metadata": {},
   "outputs": [
    {
     "data": {
      "text/plain": [
       "'You asked: \"whats 2 + 2\" \\n\\n\\nI\\'m always here to help with more math problems if you have them! 😊  \\n'"
      ]
     },
     "execution_count": 219,
     "metadata": {},
     "output_type": "execute_result"
    }
   ],
   "source": [
    "from operator import itemgetter\n",
    "from langchain_core.runnables import RunnablePassthrough\n",
    "\n",
    "chain = (\n",
    "    RunnablePassthrough.assign(messages=itemgetter('messages')|trimmer)\n",
    "    | prompt\n",
    "    | model\n",
    ")\n",
    "\n",
    "res = chain.invoke({\n",
    "    'messages': messages + [HumanMessage(content='what math problem did i aks?')],\n",
    "    'language':'English'\n",
    "})\n",
    "res.content"
   ]
  },
  {
   "cell_type": "code",
   "execution_count": 223,
   "metadata": {},
   "outputs": [],
   "source": [
    "## lets wrap this in the message history \n",
    "config = {'configurable':{'session_id':'chat02'}}\n",
    "with_message_history = RunnableWithMessageHistory(\n",
    "    chain,\n",
    "    get_session_history,\n",
    "    input_messages_key='messages'\n",
    ")"
   ]
  },
  {
   "cell_type": "code",
   "execution_count": 225,
   "metadata": {},
   "outputs": [
    {
     "data": {
      "text/plain": [
       "'You asked: \"whats 2 + 2\" \\n\\n\\nI\\'m always here to help with more math problems if you have them! 😊  \\n'"
      ]
     },
     "execution_count": 225,
     "metadata": {},
     "output_type": "execute_result"
    }
   ],
   "source": [
    "response =  with_message_history.invoke(\n",
    "    {\n",
    "        'messages':messages+[HumanMessage(content='what math problem do i ask?')],\n",
    "        'language':'English'\n",
    "    },\n",
    "    config=config\n",
    ")\n",
    "\n",
    "res.content"
   ]
  },
  {
   "cell_type": "code",
   "execution_count": 226,
   "metadata": {},
   "outputs": [
    {
     "data": {
      "text/plain": [
       "{'chat1': InMemoryChatMessageHistory(messages=[HumanMessage(content='Hi , My name is Pritesh and I am a Chief AI Engineer', additional_kwargs={}, response_metadata={}), AIMessage(content=\"Hello Pritesh,\\n\\nIt's nice to meet you! As a Chief AI Engineer, I'm sure you're doing some fascinating work.\\n\\nIs there anything specific you'd like to talk about today? I'm happy to answer questions, provide information, or even brainstorm ideas with you.  \\n\\nFor example, are you:\\n\\n* **Working on a particular AI project?**\\n* **Interested in learning more about a specific AI technology?**\\n* **Looking for insights into the latest trends in AI?**\\n\\n\\n\\nLet me know how I can be helpful! \\n\\n\", additional_kwargs={}, response_metadata={'token_usage': {'completion_tokens': 125, 'prompt_tokens': 23, 'total_tokens': 148, 'completion_time': 0.227272727, 'prompt_time': 0.00259811, 'queue_time': 0.02514765, 'total_time': 0.229870837}, 'model_name': 'Gemma2-9b-It', 'system_fingerprint': 'fp_10c08bf97d', 'finish_reason': 'stop', 'logprobs': None}, id='run-0ba48a64-275b-4cce-889c-6c7326e2090b-0', usage_metadata={'input_tokens': 23, 'output_tokens': 125, 'total_tokens': 148}), HumanMessage(content=\"What's my name?\", additional_kwargs={}, response_metadata={}), AIMessage(content='Your name is Pritesh.  I remember that from our introduction! 😊  \\n\\nHow can I help you further?  \\n', additional_kwargs={}, response_metadata={'token_usage': {'completion_tokens': 28, 'prompt_tokens': 161, 'total_tokens': 189, 'completion_time': 0.050909091, 'prompt_time': 0.00510041, 'queue_time': 0.009501528, 'total_time': 0.056009501}, 'model_name': 'Gemma2-9b-It', 'system_fingerprint': 'fp_10c08bf97d', 'finish_reason': 'stop', 'logprobs': None}, id='run-c7f98714-05d8-41ae-beec-9705a8ce508e-0', usage_metadata={'input_tokens': 161, 'output_tokens': 28, 'total_tokens': 189})]),\n",
       " 'chat2': InMemoryChatMessageHistory(messages=[HumanMessage(content='Whats my name', additional_kwargs={}, response_metadata={}), AIMessage(content=\"As an AI, I have no memory of past conversations and do not know your name. If you'd like to tell me your name, I'd be happy to know! 😊  \\n\\n\", additional_kwargs={}, response_metadata={'token_usage': {'completion_tokens': 43, 'prompt_tokens': 12, 'total_tokens': 55, 'completion_time': 0.078181818, 'prompt_time': 7.888e-05, 'queue_time': 0.01341026, 'total_time': 0.078260698}, 'model_name': 'Gemma2-9b-It', 'system_fingerprint': 'fp_10c08bf97d', 'finish_reason': 'stop', 'logprobs': None}, id='run-ca568374-b73b-4fb0-8148-33aaa7724f01-0', usage_metadata={'input_tokens': 12, 'output_tokens': 43, 'total_tokens': 55}), HumanMessage(content='Hey My name is John', additional_kwargs={}, response_metadata={}), AIMessage(content=\"Hi John, it's nice to meet you! 👋 \\n\\nIs there anything I can help you with today?  \\n\", additional_kwargs={}, response_metadata={'token_usage': {'completion_tokens': 28, 'prompt_tokens': 67, 'total_tokens': 95, 'completion_time': 0.050909091, 'prompt_time': 0.001867723, 'queue_time': 0.011451665, 'total_time': 0.052776814}, 'model_name': 'Gemma2-9b-It', 'system_fingerprint': 'fp_10c08bf97d', 'finish_reason': 'stop', 'logprobs': None}, id='run-4af0c893-0758-40b4-9e5d-2070eac05657-0', usage_metadata={'input_tokens': 67, 'output_tokens': 28, 'total_tokens': 95}), HumanMessage(content='Whats my name', additional_kwargs={}, response_metadata={}), AIMessage(content='Your name is John. 😊  \\n\\nI remember!  \\n\\nHow can I help you further?\\n', additional_kwargs={}, response_metadata={'token_usage': {'completion_tokens': 23, 'prompt_tokens': 106, 'total_tokens': 129, 'completion_time': 0.041818182, 'prompt_time': 0.003300777, 'queue_time': 0.011320591, 'total_time': 0.045118959}, 'model_name': 'Gemma2-9b-It', 'system_fingerprint': 'fp_10c08bf97d', 'finish_reason': 'stop', 'logprobs': None}, id='run-d638ec18-c502-4694-9889-237610bf0ba0-0', usage_metadata={'input_tokens': 106, 'output_tokens': 23, 'total_tokens': 129})]),\n",
       " 'chat3': InMemoryChatMessageHistory(messages=[HumanMessage(content='Hi My name is Pritesh', additional_kwargs={}, response_metadata={}), AIMessage(content=\"Hello Pritesh, it's nice to meet you!  \\n\\nHow can I help you today? 😊 \\n\\nAsk me anything! I'll do my best to answer. \\n\", additional_kwargs={}, response_metadata={'token_usage': {'completion_tokens': 41, 'prompt_tokens': 32, 'total_tokens': 73, 'completion_time': 0.074545455, 'prompt_time': 0.000322779, 'queue_time': 0.015081381, 'total_time': 0.074868234}, 'model_name': 'Gemma2-9b-It', 'system_fingerprint': 'fp_10c08bf97d', 'finish_reason': 'stop', 'logprobs': None}, id='run-1a7a7bb5-ee72-416d-b20e-4616065df24a-0', usage_metadata={'input_tokens': 32, 'output_tokens': 41, 'total_tokens': 73}), HumanMessage(content=\"What's my name?\", additional_kwargs={}, response_metadata={}), AIMessage(content='Your name is Pritesh!  I remember from our introduction. 😊 \\n\\n\\nIs there anything else I can help you with, Pritesh?\\n', additional_kwargs={}, response_metadata={'token_usage': {'completion_tokens': 32, 'prompt_tokens': 87, 'total_tokens': 119, 'completion_time': 0.058181818, 'prompt_time': 0.003291457, 'queue_time': 0.010206393000000001, 'total_time': 0.061473275}, 'model_name': 'Gemma2-9b-It', 'system_fingerprint': 'fp_10c08bf97d', 'finish_reason': 'stop', 'logprobs': None}, id='run-ef2eb68b-a810-4742-b962-49b1746422c3-0', usage_metadata={'input_tokens': 87, 'output_tokens': 32, 'total_tokens': 119}), HumanMessage(content='Hi My name is Pritesh', additional_kwargs={}, response_metadata={}), AIMessage(content=\"Hi Pritesh, it's nice to meet you!  \\n\\nI see you've already introduced yourself.  Is there anything you'd like to talk about or ask me?  I'm here to help! 😊 \\n\", additional_kwargs={}, response_metadata={'token_usage': {'completion_tokens': 51, 'prompt_tokens': 132, 'total_tokens': 183, 'completion_time': 0.092727273, 'prompt_time': 0.005083091, 'queue_time': 0.009445069, 'total_time': 0.097810364}, 'model_name': 'Gemma2-9b-It', 'system_fingerprint': 'fp_10c08bf97d', 'finish_reason': 'stop', 'logprobs': None}, id='run-b2a621f1-76c1-4e5b-b861-cc754c76476c-0', usage_metadata={'input_tokens': 132, 'output_tokens': 51, 'total_tokens': 183}), HumanMessage(content=\"What's my name?\", additional_kwargs={}, response_metadata={}), AIMessage(content=\"Your name is Pritesh!  \\n\\nIt seems like you're having a little fun with the question. 😉  Is there anything else I can help you with?\\n\", additional_kwargs={}, response_metadata={'token_usage': {'completion_tokens': 37, 'prompt_tokens': 197, 'total_tokens': 234, 'completion_time': 0.067272727, 'prompt_time': 0.005745659, 'queue_time': 0.00985543, 'total_time': 0.073018386}, 'model_name': 'Gemma2-9b-It', 'system_fingerprint': 'fp_10c08bf97d', 'finish_reason': 'stop', 'logprobs': None}, id='run-7e2de74c-afcd-404a-9f8d-ea82c6a54acd-0', usage_metadata={'input_tokens': 197, 'output_tokens': 37, 'total_tokens': 234})]),\n",
       " 'chat4': InMemoryChatMessageHistory(messages=[HumanMessage(content='Hi,I am Pritesh', additional_kwargs={}, response_metadata={}), AIMessage(content='नमस्ते Pritesh! 😊 \\n\\nमैं आपकी मदद के लिए यहाँ हूँ। आप मुझसे कुछ भी पूछ सकते हैं, मैं अपनी पूरी कोशिश करूँगा कि आपको सही उत्तर दूँ। \\n\\nआप क्या जानना चाहेंगे? 🤔 \\n', additional_kwargs={}, response_metadata={'token_usage': {'completion_tokens': 63, 'prompt_tokens': 33, 'total_tokens': 96, 'completion_time': 0.114545455, 'prompt_time': 0.000662948, 'queue_time': 0.015695012, 'total_time': 0.115208403}, 'model_name': 'Gemma2-9b-It', 'system_fingerprint': 'fp_10c08bf97d', 'finish_reason': 'stop', 'logprobs': None}, id='run-ce243103-bd2a-4d9b-861a-da11973133b9-0', usage_metadata={'input_tokens': 33, 'output_tokens': 63, 'total_tokens': 96}), HumanMessage(content='whats my name?', additional_kwargs={}, response_metadata={}), AIMessage(content='आपका नाम Pritesh है! 😉  \\n', additional_kwargs={}, response_metadata={'token_usage': {'completion_tokens': 13, 'prompt_tokens': 108, 'total_tokens': 121, 'completion_time': 0.023636364, 'prompt_time': 0.00508113, 'queue_time': 0.00839752, 'total_time': 0.028717494}, 'model_name': 'Gemma2-9b-It', 'system_fingerprint': 'fp_10c08bf97d', 'finish_reason': 'stop', 'logprobs': None}, id='run-4ef9c271-fa5b-4432-9cfb-a36e89d6b45a-0', usage_metadata={'input_tokens': 108, 'output_tokens': 13, 'total_tokens': 121}), HumanMessage(content='Hi,I am Pritesh', additional_kwargs={}, response_metadata={}), AIMessage(content='नमस्ते Pritesh!  😊\\n\\nमुझे समझ आया, आप Pritesh हैं! 👋 \\n\\n\\n\\n', additional_kwargs={}, response_metadata={'token_usage': {'completion_tokens': 26, 'prompt_tokens': 135, 'total_tokens': 161, 'completion_time': 0.047272727, 'prompt_time': 0.004044955, 'queue_time': 0.010553065, 'total_time': 0.051317682}, 'model_name': 'Gemma2-9b-It', 'system_fingerprint': 'fp_10c08bf97d', 'finish_reason': 'stop', 'logprobs': None}, id='run-33b3eca2-9e47-4f01-a9f2-5e6d572299c4-0', usage_metadata={'input_tokens': 135, 'output_tokens': 26, 'total_tokens': 161}), HumanMessage(content='whats my name?', additional_kwargs={}, response_metadata={}), AIMessage(content='आपका नाम Pritesh है।  😊 \\n\\nक्या और में आपकी मदद कर सकता हूँ? \\n', additional_kwargs={}, response_metadata={'token_usage': {'completion_tokens': 27, 'prompt_tokens': 172, 'total_tokens': 199, 'completion_time': 0.049090909, 'prompt_time': 0.00539517, 'queue_time': 0.008992278, 'total_time': 0.054486079}, 'model_name': 'Gemma2-9b-It', 'system_fingerprint': 'fp_10c08bf97d', 'finish_reason': 'stop', 'logprobs': None}, id='run-a4943718-00c6-4149-ac2a-c092619f4e3f-0', usage_metadata={'input_tokens': 172, 'output_tokens': 27, 'total_tokens': 199})]),\n",
       " 'chat02': InMemoryChatMessageHistory(messages=[SystemMessage(content=\"you're a good assistant\", additional_kwargs={}, response_metadata={}), HumanMessage(content=\"hi! I'm bob\", additional_kwargs={}, response_metadata={}), AIMessage(content='hi!', additional_kwargs={}, response_metadata={}), HumanMessage(content='I like vanilla ice cream', additional_kwargs={}, response_metadata={}), AIMessage(content='nice', additional_kwargs={}, response_metadata={}), HumanMessage(content='whats 2 + 2', additional_kwargs={}, response_metadata={}), AIMessage(content='4', additional_kwargs={}, response_metadata={}), HumanMessage(content='thanks', additional_kwargs={}, response_metadata={}), AIMessage(content='no problem!', additional_kwargs={}, response_metadata={}), HumanMessage(content='having fun?', additional_kwargs={}, response_metadata={}), AIMessage(content='yes!', additional_kwargs={}, response_metadata={}), HumanMessage(content='what math problem do i ask?', additional_kwargs={}, response_metadata={}), AIMessage(content='How about this one:\\n\\nWhat is the square root of 64?  \\n\\nLet me know if you want to try another one!  \\n', additional_kwargs={}, response_metadata={'token_usage': {'completion_tokens': 33, 'prompt_tokens': 87, 'total_tokens': 120, 'completion_time': 0.06, 'prompt_time': 0.002277231, 'queue_time': 0.012217559000000001, 'total_time': 0.062277231}, 'model_name': 'Gemma2-9b-It', 'system_fingerprint': 'fp_10c08bf97d', 'finish_reason': 'stop', 'logprobs': None}, id='run-2490db41-30d6-4967-9aa2-4c7f2c4d6a92-0', usage_metadata={'input_tokens': 87, 'output_tokens': 33, 'total_tokens': 120})])}"
      ]
     },
     "execution_count": 226,
     "metadata": {},
     "output_type": "execute_result"
    }
   ],
   "source": [
    "store"
   ]
  },
  {
   "cell_type": "code",
   "execution_count": null,
   "metadata": {},
   "outputs": [],
   "source": []
  }
 ],
 "metadata": {
  "kernelspec": {
   "display_name": "learning_llm_udemy",
   "language": "python",
   "name": "python3"
  },
  "language_info": {
   "codemirror_mode": {
    "name": "ipython",
    "version": 3
   },
   "file_extension": ".py",
   "mimetype": "text/x-python",
   "name": "python",
   "nbconvert_exporter": "python",
   "pygments_lexer": "ipython3",
   "version": "3.12.7"
  }
 },
 "nbformat": 4,
 "nbformat_minor": 2
}
