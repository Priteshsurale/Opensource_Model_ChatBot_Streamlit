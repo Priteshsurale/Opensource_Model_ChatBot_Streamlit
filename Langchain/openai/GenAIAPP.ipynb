{
 "cells": [
  {
   "cell_type": "markdown",
   "metadata": {},
   "source": [
    "#### Getting started With Langchain And Open AI\n",
    "\n",
    "In this quickstart we'll see how to:\n",
    "\n",
    "- Get setup with LangChain, LangSmith and LangServe\n",
    "- Use the most basic and common components of LangChain: prompt templates, models, and output parsers.\n",
    "- Build a simple application with LangChain\n",
    "- Trace your application with LangSmith\n",
    "- Serve your application with LangServe"
   ]
  },
  {
   "cell_type": "code",
   "execution_count": 35,
   "metadata": {},
   "outputs": [],
   "source": [
    "import os\n",
    "from dotenv import load_dotenv\n",
    "load_dotenv()\n",
    "\n",
    "os.environ['OPENAI_API_KEY']=os.getenv(\"OPENAI_API_KEY\")\n",
    "## Langsmith Tracking\n",
    "os.environ[\"LANGCHAIN_API_KEY\"]=os.getenv(\"LANGCHAIN_API_KEY\")\n",
    "os.environ[\"LANGCHAIN_TRACING_V2\"]=\"true\"\n",
    "os.environ[\"LANGCHAIN_PROJECT\"]=os.getenv(\"LANGCHAIN_PROJECT\")"
   ]
  },
  {
   "cell_type": "code",
   "execution_count": 28,
   "metadata": {},
   "outputs": [
    {
     "data": {
      "text/plain": [
       "ChatOpenAI(client=<openai.resources.chat.completions.Completions object at 0x75d9faa84080>, async_client=<openai.resources.chat.completions.AsyncCompletions object at 0x75d9faa88980>, root_client=<openai.OpenAI object at 0x75d9faa842f0>, root_async_client=<openai.AsyncOpenAI object at 0x75d9faa84380>, model_name='gpt-4o', model_kwargs={}, openai_api_key=SecretStr('**********'))"
      ]
     },
     "execution_count": 28,
     "metadata": {},
     "output_type": "execute_result"
    }
   ],
   "source": [
    "from langchain_openai import ChatOpenAI\n",
    "llm = ChatOpenAI(model='gpt-4o')\n",
    "llm"
   ]
  },
  {
   "cell_type": "code",
   "execution_count": 24,
   "metadata": {},
   "outputs": [],
   "source": [
    "res = llm.invoke('hello')\n",
    "res"
   ]
  },
  {
   "cell_type": "code",
   "execution_count": 30,
   "metadata": {},
   "outputs": [
    {
     "data": {
      "text/plain": [
       "ChatPromptTemplate(input_variables=['input'], input_types={}, partial_variables={}, messages=[SystemMessagePromptTemplate(prompt=PromptTemplate(input_variables=[], input_types={}, partial_variables={}, template='you are an AI Engineer. Provide me answers based on the question.'), additional_kwargs={}), HumanMessagePromptTemplate(prompt=PromptTemplate(input_variables=['input'], input_types={}, partial_variables={}, template='{input}'), additional_kwargs={})])"
      ]
     },
     "execution_count": 30,
     "metadata": {},
     "output_type": "execute_result"
    }
   ],
   "source": [
    "## ChatPromptTemplate\n",
    "\n",
    "from langchain_core.prompts import ChatPromptTemplate\n",
    "\n",
    "prompt = ChatPromptTemplate.from_messages(\n",
    "    [\n",
    "        (\"system\",\"you are an AI Engineer. Provide me answers based on the question.\"),\n",
    "        (\"user\",\"{input}\")\n",
    "    ]\n",
    ")\n",
    "\n",
    "prompt"
   ]
  },
  {
   "cell_type": "code",
   "execution_count": 31,
   "metadata": {},
   "outputs": [
    {
     "data": {
      "text/plain": [
       "AIMessage(content=\"If your project is not appearing in project tracing in Smith Langchain despite following the documentation, here are a few troubleshooting steps you can take:\\n\\n1. **Verify Setup**: Double-check that you have followed all the setup steps correctly. Ensure that the configuration and initialization settings in your code are as specified in the Langchain documentation.\\n\\n2. **API Keys and Credentials**: Ensure that any necessary API keys or credentials are correctly implemented in your project. Missing or incorrect credentials can prevent proper communication with Smith Langchain.\\n\\n3. **Environment Variables**: Make sure that environment variables are set correctly, if required. These might include API keys, project IDs, or any other configuration settings.\\n\\n4. **Network Issues**: Check your network connection to ensure there are no issues that might be preventing your project from connecting to Smith Langchain's services.\\n\\n5. **Logging and Debugging**: Enable logging in your project to see if there are any error messages or warnings during execution. This can provide insights into what might be going wrong.\\n\\n6. **Updates and Compatibility**: Make sure that your Langchain library is up to date. Check for any updates or patches that might address your issue.\\n\\n7. **Documentation Revisions**: Verify if there have been any recent updates or changes in the Langchain documentation that might affect your setup.\\n\\n8. **Community and Support**: Consider reaching out to the Langchain community or support channels. Other users or developers might have experienced similar issues and could offer solutions.\\n\\n9. **Check for Known Issues**: Look into any known issues or bug reports related to Smith Langchain that might align with the problems you're facing.\\n\\nIf you've gone through these steps and the issue persists, providing specific error messages or code snippets might help others assist you better.\", additional_kwargs={'refusal': None}, response_metadata={'token_usage': {'completion_tokens': 358, 'prompt_tokens': 53, 'total_tokens': 411, 'completion_tokens_details': {'audio_tokens': None, 'reasoning_tokens': 0}, 'prompt_tokens_details': {'audio_tokens': None, 'cached_tokens': 0}}, 'model_name': 'gpt-4o-2024-08-06', 'system_fingerprint': 'fp_90354628f2', 'finish_reason': 'stop', 'logprobs': None}, id='run-f3afd2c4-10ce-466d-bfb3-e184a388f03b-0', usage_metadata={'input_tokens': 53, 'output_tokens': 358, 'total_tokens': 411, 'input_token_details': {'cache_read': 0}, 'output_token_details': {'reasoning': 0}})"
      ]
     },
     "execution_count": 31,
     "metadata": {},
     "output_type": "execute_result"
    }
   ],
   "source": [
    "chain = prompt | llm\n",
    "\n",
    "response = chain.invoke({\"input\":\" i have setted everything as shown in langchain documentaion but still my project is now showing in project tracing in smith langchain?\"})\n",
    "\n",
    "response"
   ]
  },
  {
   "cell_type": "code",
   "execution_count": 32,
   "metadata": {},
   "outputs": [
    {
     "data": {
      "text/plain": [
       "'If your project is not showing in the project tracing in Smith Langchain despite following the documentation, here are a few troubleshooting steps you can take:\\n\\n1. **Verify Configuration**: Double-check your configuration settings as per the Langchain documentation. Ensure all necessary credentials, API keys, and environment variables are correctly set.\\n\\n2. **Check Logs**: Look at the logs for any error messages or warnings that might indicate what went wrong. This could provide insight into any configuration or runtime issues.\\n\\n3. **Network Issues**: Ensure that there are no network issues preventing your project from communicating with Smith Langchain services. Check your firewall and network settings.\\n\\n4. **Version Compatibility**: Ensure that you are using compatible versions of Langchain and any other dependencies. Sometimes, updates in the library or its dependencies can cause compatibility issues.\\n\\n5. **Service Status**: Verify that the Smith Langchain service is up and running. Check their status page or any relevant communication channels for outages or maintenance updates.\\n\\n6. **Documentation Review**: Go through the Langchain documentation again to ensure that you haven’t missed any critical steps or updates since your last setup.\\n\\n7. **Community Support**: Check forums, GitHub issues, or any community support channels for similar issues. It’s possible others have encountered the same problem and solutions or workarounds may already be available.\\n\\n8. **Contact Support**: If none of the above steps resolve the issue, consider reaching out to Langchain’s support or helpdesk for assistance. Provide them with detailed information about your setup and any error messages you’ve encountered.\\n\\nBy systematically going through these steps, you should be able to identify the root cause of the issue and take appropriate action to resolve it.'"
      ]
     },
     "execution_count": 32,
     "metadata": {},
     "output_type": "execute_result"
    }
   ],
   "source": [
    "## stroutput Parser\n",
    "\n",
    "from langchain_core.output_parsers import StrOutputParser\n",
    "\n",
    "output_parser = StrOutputParser()\n",
    "\n",
    "chain = prompt|llm|output_parser\n",
    "\n",
    "response = chain.invoke({\"input\":\" i have setted everything as shown in langchain documentaion but still my project is now showing in project tracing in smith langchain?\"})\n",
    "\n",
    "response"
   ]
  },
  {
   "cell_type": "code",
   "execution_count": 33,
   "metadata": {},
   "outputs": [
    {
     "name": "stdout",
     "output_type": "stream",
     "text": [
      "If your project is not showing in the project tracing in Smith Langchain despite following the documentation, here are a few troubleshooting steps you can take:\n",
      "\n",
      "1. **Verify Configuration**: Double-check your configuration settings as per the Langchain documentation. Ensure all necessary credentials, API keys, and environment variables are correctly set.\n",
      "\n",
      "2. **Check Logs**: Look at the logs for any error messages or warnings that might indicate what went wrong. This could provide insight into any configuration or runtime issues.\n",
      "\n",
      "3. **Network Issues**: Ensure that there are no network issues preventing your project from communicating with Smith Langchain services. Check your firewall and network settings.\n",
      "\n",
      "4. **Version Compatibility**: Ensure that you are using compatible versions of Langchain and any other dependencies. Sometimes, updates in the library or its dependencies can cause compatibility issues.\n",
      "\n",
      "5. **Service Status**: Verify that the Smith Langchain service is up and running. Check their status page or any relevant communication channels for outages or maintenance updates.\n",
      "\n",
      "6. **Documentation Review**: Go through the Langchain documentation again to ensure that you haven’t missed any critical steps or updates since your last setup.\n",
      "\n",
      "7. **Community Support**: Check forums, GitHub issues, or any community support channels for similar issues. It’s possible others have encountered the same problem and solutions or workarounds may already be available.\n",
      "\n",
      "8. **Contact Support**: If none of the above steps resolve the issue, consider reaching out to Langchain’s support or helpdesk for assistance. Provide them with detailed information about your setup and any error messages you’ve encountered.\n",
      "\n",
      "By systematically going through these steps, you should be able to identify the root cause of the issue and take appropriate action to resolve it.\n"
     ]
    }
   ],
   "source": [
    "print(response)"
   ]
  },
  {
   "cell_type": "code",
   "execution_count": null,
   "metadata": {},
   "outputs": [],
   "source": [
    "\n"
   ]
  },
  {
   "cell_type": "code",
   "execution_count": null,
   "metadata": {},
   "outputs": [],
   "source": []
  },
  {
   "cell_type": "code",
   "execution_count": null,
   "metadata": {},
   "outputs": [],
   "source": []
  },
  {
   "cell_type": "code",
   "execution_count": null,
   "metadata": {},
   "outputs": [],
   "source": []
  },
  {
   "cell_type": "code",
   "execution_count": null,
   "metadata": {},
   "outputs": [],
   "source": []
  },
  {
   "cell_type": "code",
   "execution_count": null,
   "metadata": {},
   "outputs": [],
   "source": []
  },
  {
   "cell_type": "code",
   "execution_count": 37,
   "metadata": {},
   "outputs": [],
   "source": []
  },
  {
   "cell_type": "code",
   "execution_count": null,
   "metadata": {},
   "outputs": [],
   "source": []
  }
 ],
 "metadata": {
  "kernelspec": {
   "display_name": "learning_llm_udemy",
   "language": "python",
   "name": "python3"
  },
  "language_info": {
   "codemirror_mode": {
    "name": "ipython",
    "version": 3
   },
   "file_extension": ".py",
   "mimetype": "text/x-python",
   "name": "python",
   "nbconvert_exporter": "python",
   "pygments_lexer": "ipython3",
   "version": "3.12.7"
  }
 },
 "nbformat": 4,
 "nbformat_minor": 2
}
