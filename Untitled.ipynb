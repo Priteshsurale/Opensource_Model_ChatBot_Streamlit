{
 "cells": [
  {
   "cell_type": "markdown",
   "id": "2e4cb799-8a06-47e3-a2db-fae01be43334",
   "metadata": {},
   "source": [
    "## Encapsulation And Abstraction\n",
    "\n",
    "Encapsulation and abstraction are two fundamental principle of Objet Oriented Programming (oop) that help in designing robust, maintainable and reusable code. encapsulation involves bundling data and methods that operate on the data within a single unit. while abstraction involves hiding complex implementation details and exposing only the necessary features.\n",
    "\n",
    "- Encapsulation is the concept of wrapping data (variable) and methods (function) together as single unit. it restricts direct access to some of the objects components, which is a means of preventing accidental interference and misuse of the data\n",
    "\n",
    "- Abstraction is the concept of hiding the complex implementation details and showing only the necessary features of an object. This helps in reducing programming complexity and effort"
   ]
  },
  {
   "cell_type": "code",
   "execution_count": null,
   "id": "dfefa9a0-397d-4245-952f-834fb048de73",
   "metadata": {},
   "outputs": [],
   "source": []
  }
 ],
 "metadata": {
  "kernelspec": {
   "display_name": "llm",
   "language": "python",
   "name": "python3"
  },
  "language_info": {
   "codemirror_mode": {
    "name": "ipython",
    "version": 3
   },
   "file_extension": ".py",
   "mimetype": "text/x-python",
   "name": "python",
   "nbconvert_exporter": "python",
   "pygments_lexer": "ipython3",
   "version": "3.12.5"
  }
 },
 "nbformat": 4,
 "nbformat_minor": 5
}
